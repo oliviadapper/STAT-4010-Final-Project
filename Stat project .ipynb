{
 "cells": [
  {
   "cell_type": "code",
   "execution_count": 1,
   "id": "0667b4f3",
   "metadata": {},
   "outputs": [
    {
     "data": {
      "text/plain": [
       "            Entity            Code             year              Day        \n",
       " Afghanistan   :  1178          : 18848   Min.   :2020   2022-12-12:   248  \n",
       " Africa        :  1178   ABW    :  1178   1st Qu.:2020   2022-12-13:   248  \n",
       " Albania       :  1178   AFG    :  1178   Median :2021   2022-12-14:   248  \n",
       " Algeria       :  1178   AGO    :  1178   Mean   :2021   2022-12-15:   248  \n",
       " American Samoa:  1178   AIA    :  1178   3rd Qu.:2022   2022-12-16:   248  \n",
       " Andorra       :  1178   ALB    :  1178   Max.   :2023   2022-12-17:   248  \n",
       " (Other)       :283063   (Other):265393                  (Other)   :288643  \n",
       " Total.confirmed.cases.of.COVID.19\n",
       " Min.   :        1                \n",
       " 1st Qu.:     6482                \n",
       " Median :    63392                \n",
       " Mean   :  9393570                \n",
       " 3rd Qu.:   681625                \n",
       " Max.   :762790388                \n",
       " NA's   :18830                    \n",
       " Days.since.the.total.confirmed.cases.of.COVID.19.reached.100\n",
       " Min.   :-1033                                               \n",
       " 1st Qu.:  144                                               \n",
       " Median :  444                                               \n",
       " Mean   :  438                                               \n",
       " 3rd Qu.:  762                                               \n",
       " Max.   : 1179                                               \n",
       " NA's   :1521                                                \n",
       " Income.classifications..World.Bank..2017..\n",
       "                    :40395                 \n",
       " High income        :87172                 \n",
       " Low income         :35340                 \n",
       " Lower-middle income:61256                 \n",
       " Not categorized    : 1178                 \n",
       " Upper-middle income:64790                 \n",
       "                                           "
      ]
     },
     "metadata": {},
     "output_type": "display_data"
    }
   ],
   "source": [
    "data <- read.csv(\"coviddataincome.csv\")\n",
    "summary(data)"
   ]
  },
  {
   "cell_type": "code",
   "execution_count": null,
   "id": "85ba3a20",
   "metadata": {},
   "outputs": [],
   "source": []
  }
 ],
 "metadata": {
  "kernelspec": {
   "display_name": "R",
   "language": "R",
   "name": "ir"
  },
  "language_info": {
   "codemirror_mode": "r",
   "file_extension": ".r",
   "mimetype": "text/x-r-source",
   "name": "R",
   "pygments_lexer": "r",
   "version": "3.6.1"
  }
 },
 "nbformat": 4,
 "nbformat_minor": 5
}
